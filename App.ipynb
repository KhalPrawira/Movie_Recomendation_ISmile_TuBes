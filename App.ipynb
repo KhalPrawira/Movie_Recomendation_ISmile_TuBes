{
  "cells": [
    {
      "cell_type": "code",
      "execution_count": null,
      "metadata": {
        "colab": {
          "base_uri": "https://localhost:8080/"
        },
        "id": "-pIIMuM_kzTg",
        "outputId": "e633e448-a251-4cbf-c8f1-ef22ba7bbbc7"
      },
      "outputs": [],
      "source": [
        "%pip install langchain langchain-community langchain_groq chromadb gradio"
      ]
    },
    {
      "cell_type": "code",
      "execution_count": null,
      "metadata": {
        "id": "sFFSvtMLm04-"
      },
      "outputs": [],
      "source": [
        "import pandas as pd\n",
        "from langchain.chains import RetrievalQA\n",
        "from langchain.embeddings.huggingface import HuggingFaceEmbeddings\n",
        "from langchain.document_loaders import TextLoader\n",
        "from langchain.text_splitter import CharacterTextSplitter\n",
        "from langchain.vectorstores import Chroma\n",
        "from langchain.document_loaders.csv_loader import CSVLoader\n",
        "from langchain_groq import ChatGroq"
      ]
    },
    {
      "cell_type": "code",
      "execution_count": null,
      "metadata": {
        "colab": {
          "base_uri": "https://localhost:8080/",
          "height": 344
        },
        "id": "nT6gnFZLpTvA",
        "outputId": "bd16482e-3bc6-4e3e-aafd-b30f77c6facd"
      },
      "outputs": [],
      "source": [
        "anime  = pd.read_csv(\"/anime_processed.csv\")\n",
        "anime.head()"
      ]
    },
    {
      "cell_type": "code",
      "execution_count": null,
      "metadata": {
        "id": "du4f9q61pjHU"
      },
      "outputs": [],
      "source": [
        "anime['combined_df'] =anime.apply(lambda row: f\"Title: {row['Name']}. English Name : {row['English name']}. Japanese Name : {row['Japanese name']}. Overview : {row['Synopsis']}. Episodes : {row['Episodes']}. Score : {row['Score']}. Type : {row['Type']}. Rating : {row['Rating']}\", axis = 1)"
      ]
    },
    {
      "cell_type": "code",
      "execution_count": null,
      "metadata": {
        "colab": {
          "base_uri": "https://localhost:8080/",
          "height": 143
        },
        "id": "-58ylo9FqhS9",
        "outputId": "52ec02b2-3c7e-42b2-a307-a9082a337924"
      },
      "outputs": [],
      "source": [
        "anime['combined_df'][0]"
      ]
    },
    {
      "cell_type": "code",
      "execution_count": null,
      "metadata": {
        "id": "RDAp1l3Wqjws"
      },
      "outputs": [],
      "source": [
        "anime[['combined_df']].to_csv('anime_updated.csv', index = False)"
      ]
    },
    {
      "cell_type": "code",
      "execution_count": null,
      "metadata": {
        "colab": {
          "base_uri": "https://localhost:8080/",
          "height": 423
        },
        "id": "LU4ZvmPQqvyp",
        "outputId": "512f4583-bc47-4179-943b-d2e8bde63227"
      },
      "outputs": [],
      "source": [
        "pd.read_csv(\"anime_updated.csv\")"
      ]
    },
    {
      "cell_type": "markdown",
      "metadata": {
        "id": "HkG28a63q_RB"
      },
      "source": [
        "**Data** Loader and VectorStore using **Langchain**"
      ]
    },
    {
      "cell_type": "code",
      "execution_count": null,
      "metadata": {
        "colab": {
          "base_uri": "https://localhost:8080/"
        },
        "id": "_NPu4jShqz0D",
        "outputId": "451fdc77-a57f-4f6b-f8d5-0a192327799c"
      },
      "outputs": [],
      "source": [
        "loader = CSVLoader(file_path=\"/content/anime_updated.csv\")\n",
        "data = loader.load()\n",
        "\n",
        "text_splitter = CharacterTextSplitter(chunk_size = 1000, chunk_overlap = 0)\n",
        "texts = text_splitter.split_documents(data)\n",
        "embeddings = HuggingFaceEmbeddings()\n",
        "llm = ChatGroq(api_key = \"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\", model = \"gemma2-9b-it\", temperature= 0 )\n",
        "\n",
        "docssearch = Chroma.from_documents(texts, embeddings)"
      ]
    },
    {
      "cell_type": "markdown",
      "metadata": {
        "id": "VtsANRc5se0B"
      },
      "source": [
        "**Querying Vector DB Store for movie recommendation**"
      ]
    },
    {
      "cell_type": "code",
      "execution_count": null,
      "metadata": {
        "id": "Qr3oyorwsgbl"
      },
      "outputs": [],
      "source": [
        "query = \"I am looking for an animated sci-fi movie. What could you suggest to me\"\n",
        "docs = docssearch.similarity_search(query, k =1)"
      ]
    },
    {
      "cell_type": "code",
      "execution_count": null,
      "metadata": {
        "colab": {
          "base_uri": "https://localhost:8080/"
        },
        "id": "CZ6NWf5Wsya1",
        "outputId": "cb414b1a-335a-4ea7-e138-404dac4eff08"
      },
      "outputs": [],
      "source": [
        "docs"
      ]
    },
    {
      "cell_type": "markdown",
      "metadata": {
        "id": "gjItnuXcs_Gz"
      },
      "source": [
        "**Using QA Retrieval for movie recommendation**"
      ]
    },
    {
      "cell_type": "code",
      "execution_count": null,
      "metadata": {
        "id": "gl3yqjFztAM0"
      },
      "outputs": [],
      "source": [
        "qa = RetrievalQA.from_chain_type(llm,\n",
        "            chain_type = \"stuff\",\n",
        "            retriever = docssearch.as_retriever(),\n",
        "            return_source_documents = True)"
      ]
    },
    {
      "cell_type": "code",
      "execution_count": null,
      "metadata": {
        "id": "iMG0vNDVtQrK"
      },
      "outputs": [],
      "source": [
        "query = \"Can you recommend a romance anime with a unique storyline?\"\n",
        "result = qa({\"query\": query})"
      ]
    },
    {
      "cell_type": "code",
      "execution_count": null,
      "metadata": {
        "colab": {
          "base_uri": "https://localhost:8080/",
          "height": 89
        },
        "id": "BqyjGYpjtlUC",
        "outputId": "93f78ffb-ef8e-427f-97fc-4e7a94b7275f"
      },
      "outputs": [],
      "source": [
        "result['result']"
      ]
    },
    {
      "cell_type": "code",
      "execution_count": null,
      "metadata": {
        "colab": {
          "base_uri": "https://localhost:8080/"
        },
        "id": "qF9JLaSWtmxT",
        "outputId": "2641100c-0e68-4808-fe56-1f302b190c41"
      },
      "outputs": [],
      "source": [
        "result['source_documents'][0]"
      ]
    },
    {
      "cell_type": "markdown",
      "metadata": {
        "id": "DyUwfTfst9i9"
      },
      "source": [
        "**Prompt Enginnering**"
      ]
    },
    {
      "cell_type": "code",
      "execution_count": null,
      "metadata": {
        "colab": {
          "base_uri": "https://localhost:8080/"
        },
        "id": "aMUmwOpOt-sa",
        "outputId": "09e9c381-3bbd-4734-8846-087a139f68d6"
      },
      "outputs": [],
      "source": [
        "from langchain.prompts import PromptTemplate\n",
        "\n",
        "template = \"\"\"Anda adalah sistem pemberi rekomendasi film yang membantu pengguna menemukan anime yang sesuai dengan preferensi mereka.\n",
        "Gunakan potongan konteks berikut untuk menjawab pertanyaan di akhir. Untuk setiap pertanyaan, sarankan tiga anime,\n",
        "dengan deskripsi singkat tentang plot dan alasan mengapa pengguna mungkin menyukainya.\n",
        "Jika Anda tidak tahu jawabannya, katakan saja Anda tidak tahu, jangan mencoba mengarang jawaban.\n",
        "\n",
        "{context}\n",
        "\n",
        "Question: {question}\n",
        "Your response:\"\"\"\n",
        "\n",
        "PROMPT  =  PromptTemplate(\n",
        "    template=template, input_variables=[\"context\", \"question\"]\n",
        ")\n",
        "chain_type_kwargs = {\"prompt\": PROMPT}\n",
        "\n",
        "qa = RetrievalQA.from_chain_type(llm,\n",
        "            chain_type = \"stuff\",\n",
        "            retriever = docssearch.as_retriever(),\n",
        "            return_source_documents = True,\n",
        "                                 chain_type_kwargs = chain_type_kwargs)\n",
        "\n",
        "query = \"Give me a list of comedy animes that are lighthearted and fun.\"\n",
        "result = qa({\"query\": query})\n",
        "print(result['result'])\n"
      ]
    },
    {
      "cell_type": "markdown",
      "metadata": {
        "id": "ScJm3l-8u75N"
      },
      "source": [
        "**Second Template**"
      ]
    },
    {
      "cell_type": "code",
      "execution_count": null,
      "metadata": {
        "colab": {
          "base_uri": "https://localhost:8080/"
        },
        "id": "hSJdqOptu83B",
        "outputId": "f0059c0e-db97-43bb-ccd9-9b0214b3c81c"
      },
      "outputs": [],
      "source": [
        "from langchain.prompts import PromptTemplate\n",
        "\n",
        "template_prefix = \"\"\"Anda adalah sistem pemberi rekomendasi film yang membantu pengguna menemukan anime yang sesuai dengan preferensi mereka.\n",
        "Gunakan potongan konteks berikut untuk menjawab pertanyaan di akhir. Untuk setiap pertanyaan, sarankan tiga anime,\n",
        "dengan deskripsi singkat tentang plot dan alasan mengapa pengguna mungkin menyukainya.\n",
        "Jika Anda tidak tahu jawabannya, katakan saja Anda tidak tahu, jangan mencoba mengarang jawaban.\n",
        "\n",
        "{context}\"\"\"\n",
        "\n",
        "user_info = \"\"\"This is what we know about the user, and you can use this information to better tune your research:\n",
        "Age: {age}\n",
        "Gender: {gender}\"\"\"\n",
        "\n",
        "template_suffix= \"\"\"Question: {question}\n",
        "Your response:\"\"\"\n",
        "\n",
        "user_info = user_info.format(age = 18, gender = 'male')\n",
        "\n",
        "COMBINED_PROMPT = template_prefix +'\\n'+ user_info +'\\n'+ template_suffix\n",
        "print(COMBINED_PROMPT)"
      ]
    },
    {
      "cell_type": "code",
      "execution_count": null,
      "metadata": {
        "colab": {
          "base_uri": "https://localhost:8080/"
        },
        "id": "cbCNem1dvRtM",
        "outputId": "4d532482-de6a-471c-facf-5ea0beed4086"
      },
      "outputs": [],
      "source": [
        "PROMPT  =  PromptTemplate(\n",
        "    template=COMBINED_PROMPT, input_variables=[\"context\", \"question\"]\n",
        ")\n",
        "chain_type_kwargs = {\"prompt\": PROMPT}\n",
        "\n",
        "qa = RetrievalQA.from_chain_type(llm,\n",
        "            chain_type = \"stuff\",\n",
        "            retriever = docssearch.as_retriever(),\n",
        "            return_source_documents = True,\n",
        "                                 chain_type_kwargs = chain_type_kwargs)\n",
        "\n",
        "query = \"Which anime would you suggest for someone new to anime?\"\n",
        "result = qa({\"query\": query})\n",
        "print(result['result'])"
      ]
    },
    {
      "cell_type": "code",
      "execution_count": null,
      "metadata": {
        "colab": {
          "base_uri": "https://localhost:8080/",
          "height": 685
        },
        "id": "wu5YBFxSvbJ6",
        "outputId": "7c684344-f4b0-4371-bfd4-55979b947ed4"
      },
      "outputs": [],
      "source": [
        "import gradio as gr\n",
        "import pandas as pd\n",
        "from langchain_groq import ChatGroq\n",
        "from langchain.chains import RetrievalQA\n",
        "from langchain.embeddings.huggingface import HuggingFaceEmbeddings\n",
        "from langchain.vectorstores import Chroma\n",
        "from langchain.document_loaders.csv_loader import CSVLoader\n",
        "from langchain.prompts import PromptTemplate\n",
        "\n",
        "# Load anime dataset\n",
        "anime = pd.read_csv(\"/anime_processed.csv\")\n",
        "anime = anime.dropna()\n",
        "anime['combined_info'] =anime.apply(lambda row: f\"Title: {row['Name']}. English Name : {row['English name']}. Japanese Name : {row['Japanese name']}. Overview : {row['Synopsis']}. Episodes : {row['Episodes']}. Score : {row['Score']}. Type : {row['Type']}. Rating : {row['Rating']}\", axis = 1)\n",
        "\n",
        "# Save updated dataset\n",
        "anime[['combined_info']].to_csv('anime_updated.csv', index=False)\n",
        "loader = CSVLoader(file_path=\"/content/anime_updated.csv\")\n",
        "data = loader.load()\n",
        "\n",
        "# Text splitting\n",
        "from langchain.text_splitter import CharacterTextSplitter\n",
        "text_splitter = CharacterTextSplitter(chunk_size=1000, chunk_overlap=0)\n",
        "texts = text_splitter.split_documents(data)\n",
        "\n",
        "# Create embeddings\n",
        "embeddings = HuggingFaceEmbeddings()\n",
        "docssearch = Chroma.from_documents(texts, embeddings)\n",
        "retriever = docssearch.as_retriever()\n",
        "\n",
        "# Define LLM\n",
        "llm = ChatGroq(api_key=\"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\", model=\"gemma2-9b-it\", temperature=0)\n",
        "\n",
        "# Custom Prompt Template\n",
        "template = \"\"\"Anda adalah sistem pemberi rekomendasi film yang membantu pengguna menemukan anime yang sesuai dengan preferensi mereka.\n",
        "Gunakan potongan konteks berikut untuk menjawab pertanyaan di akhir. Untuk setiap pertanyaan, sarankan anime dengan jumlah yang diinginkan pengguna,\n",
        "dengan deskripsi singkat tentang plot dan alasan mengapa pengguna mungkin menyukainya.\n",
        "Jika Anda tidak tahu jawabannya, katakan saja Anda tidak tahu, jangan mencoba mengarang jawaban.\n",
        "\n",
        "{context}\n",
        "\n",
        "Question: {question}\n",
        "Your response:\"\"\"\n",
        "\n",
        "PROMPT = PromptTemplate(template=template, input_variables=[\"context\", \"question\"])\n",
        "chain_type_kwargs = {\"prompt\": PROMPT}\n",
        "\n",
        "qa_chain = RetrievalQA.from_chain_type(\n",
        "    llm=llm,\n",
        "    chain_type=\"stuff\",\n",
        "    retriever=retriever,\n",
        "    return_source_documents=True,\n",
        "    chain_type_kwargs=chain_type_kwargs\n",
        ")\n",
        "\n",
        "def recommend_anime(query):\n",
        "    result = qa_chain({'query': query})\n",
        "    return result['result']\n",
        "\n",
        "# Gradio interface\n",
        "theme = \"Respair/Shiki@1.2.1\"\n",
        "\n",
        "iface = gr.Interface(\n",
        "    fn=recommend_anime,\n",
        "    inputs=gr.Textbox(label=\"Enter your anime preference\"),\n",
        "    outputs=gr.Textbox(label=\"Recommended Anime\"),\n",
        "    title=\"Anime Movie Recommender\",\n",
        "    theme=theme,\n",
        "\n",
        ")\n",
        "\n",
        "if __name__ == \"__main__\":\n",
        "    iface.launch()\n"
      ]
    }
  ],
  "metadata": {
    "accelerator": "GPU",
    "colab": {
      "gpuType": "T4",
      "provenance": []
    },
    "kernelspec": {
      "display_name": "Python 3",
      "name": "python3"
    },
    "language_info": {
      "codemirror_mode": {
        "name": "ipython",
        "version": 3
      },
      "file_extension": ".py",
      "mimetype": "text/x-python",
      "name": "python",
      "nbconvert_exporter": "python",
      "pygments_lexer": "ipython3",
      "version": "3.11.8"
    }
  },
  "nbformat": 4,
  "nbformat_minor": 0
}
